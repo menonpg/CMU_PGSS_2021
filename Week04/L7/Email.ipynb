{
 "cells": [
  {
   "cell_type": "code",
   "execution_count": 36,
   "id": "2cde97a2",
   "metadata": {},
   "outputs": [
    {
     "data": {
      "text/html": [
       "<div>\n",
       "<style scoped>\n",
       "    .dataframe tbody tr th:only-of-type {\n",
       "        vertical-align: middle;\n",
       "    }\n",
       "\n",
       "    .dataframe tbody tr th {\n",
       "        vertical-align: top;\n",
       "    }\n",
       "\n",
       "    .dataframe thead th {\n",
       "        text-align: right;\n",
       "    }\n",
       "</style>\n",
       "<table border=\"1\" class=\"dataframe\">\n",
       "  <thead>\n",
       "    <tr style=\"text-align: right;\">\n",
       "      <th></th>\n",
       "      <th>Owner Group</th>\n",
       "      <th>Notes</th>\n",
       "      <th>s1_etr</th>\n",
       "      <th>s1_etr_time</th>\n",
       "      <th>s1_svc_rstr</th>\n",
       "      <th>s1_no_prob</th>\n",
       "      <th>s1_hold</th>\n",
       "      <th>s1_cd</th>\n",
       "    </tr>\n",
       "  </thead>\n",
       "  <tbody>\n",
       "    <tr>\n",
       "      <th>0</th>\n",
       "      <td>Global Premium Desk</td>\n",
       "      <td>Dear Customer,\\n\\nPlease confirm the current l...</td>\n",
       "      <td>0.0</td>\n",
       "      <td>0</td>\n",
       "      <td>0</td>\n",
       "      <td>0</td>\n",
       "      <td>0.0</td>\n",
       "      <td>1.0</td>\n",
       "    </tr>\n",
       "    <tr>\n",
       "      <th>1</th>\n",
       "      <td>Global Premium Desk</td>\n",
       "      <td>Dear Customer,\\n\\nPlease check and confirm; be...</td>\n",
       "      <td>0.0</td>\n",
       "      <td>0</td>\n",
       "      <td>0</td>\n",
       "      <td>0</td>\n",
       "      <td>0.0</td>\n",
       "      <td>1.0</td>\n",
       "    </tr>\n",
       "    <tr>\n",
       "      <th>2</th>\n",
       "      <td>Global Premium Desk</td>\n",
       "      <td>Dear Customer, \\n\\nPlease check and confirm; b...</td>\n",
       "      <td>0.0</td>\n",
       "      <td>0</td>\n",
       "      <td>0</td>\n",
       "      <td>0</td>\n",
       "      <td>0.0</td>\n",
       "      <td>1.0</td>\n",
       "    </tr>\n",
       "    <tr>\n",
       "      <th>3</th>\n",
       "      <td>Global Premium Desk</td>\n",
       "      <td>Dear Customer, \\n\\nPlease check and confirm; b...</td>\n",
       "      <td>0.0</td>\n",
       "      <td>0</td>\n",
       "      <td>0</td>\n",
       "      <td>0</td>\n",
       "      <td>0.0</td>\n",
       "      <td>1.0</td>\n",
       "    </tr>\n",
       "    <tr>\n",
       "      <th>4</th>\n",
       "      <td>Premium SOC</td>\n",
       "      <td>Dear Harish,\\n\\nAs discussed over call, we are...</td>\n",
       "      <td>0.0</td>\n",
       "      <td>0</td>\n",
       "      <td>0</td>\n",
       "      <td>0</td>\n",
       "      <td>0.0</td>\n",
       "      <td>1.0</td>\n",
       "    </tr>\n",
       "    <tr>\n",
       "      <th>...</th>\n",
       "      <td>...</td>\n",
       "      <td>...</td>\n",
       "      <td>...</td>\n",
       "      <td>...</td>\n",
       "      <td>...</td>\n",
       "      <td>...</td>\n",
       "      <td>...</td>\n",
       "      <td>...</td>\n",
       "    </tr>\n",
       "    <tr>\n",
       "      <th>144</th>\n",
       "      <td>Service Provider_Premium</td>\n",
       "      <td>Dear Customer, \\nPlease note as this is high p...</td>\n",
       "      <td>0.0</td>\n",
       "      <td>0</td>\n",
       "      <td>1</td>\n",
       "      <td>0</td>\n",
       "      <td>0.0</td>\n",
       "      <td>1.0</td>\n",
       "    </tr>\n",
       "    <tr>\n",
       "      <th>145</th>\n",
       "      <td>Service Provider_Premium</td>\n",
       "      <td>Dear Team,\\n\\nWe are observing alarm is showin...</td>\n",
       "      <td>0.0</td>\n",
       "      <td>0</td>\n",
       "      <td>1</td>\n",
       "      <td>0</td>\n",
       "      <td>0.0</td>\n",
       "      <td>1.0</td>\n",
       "    </tr>\n",
       "    <tr>\n",
       "      <th>146</th>\n",
       "      <td>Global Premium Desk</td>\n",
       "      <td>Hi Sunildutt,\\n\\nMain path is UP and stable.\\n...</td>\n",
       "      <td>0.0</td>\n",
       "      <td>0</td>\n",
       "      <td>1</td>\n",
       "      <td>0</td>\n",
       "      <td>0.0</td>\n",
       "      <td>0.0</td>\n",
       "    </tr>\n",
       "    <tr>\n",
       "      <th>147</th>\n",
       "      <td>Global Premium Desk</td>\n",
       "      <td>Dear Customer,\\n\\nPlease find below observatio...</td>\n",
       "      <td>1.0</td>\n",
       "      <td>6 hours</td>\n",
       "      <td>1</td>\n",
       "      <td>1</td>\n",
       "      <td>1.0</td>\n",
       "      <td>0.0</td>\n",
       "    </tr>\n",
       "    <tr>\n",
       "      <th>148</th>\n",
       "      <td>Global Premium Desk</td>\n",
       "      <td>Dear Customer,\\n\\nMinor packet drops to the WA...</td>\n",
       "      <td>1.0</td>\n",
       "      <td>4 hours</td>\n",
       "      <td>1</td>\n",
       "      <td>1</td>\n",
       "      <td>1.0</td>\n",
       "      <td>1.0</td>\n",
       "    </tr>\n",
       "  </tbody>\n",
       "</table>\n",
       "<p>149 rows × 8 columns</p>\n",
       "</div>"
      ],
      "text/plain": [
       "                  Owner Group  \\\n",
       "0         Global Premium Desk   \n",
       "1         Global Premium Desk   \n",
       "2         Global Premium Desk   \n",
       "3         Global Premium Desk   \n",
       "4                 Premium SOC   \n",
       "..                        ...   \n",
       "144  Service Provider_Premium   \n",
       "145  Service Provider_Premium   \n",
       "146       Global Premium Desk   \n",
       "147       Global Premium Desk   \n",
       "148       Global Premium Desk   \n",
       "\n",
       "                                                 Notes  s1_etr s1_etr_time  \\\n",
       "0    Dear Customer,\\n\\nPlease confirm the current l...     0.0           0   \n",
       "1    Dear Customer,\\n\\nPlease check and confirm; be...     0.0           0   \n",
       "2    Dear Customer, \\n\\nPlease check and confirm; b...     0.0           0   \n",
       "3    Dear Customer, \\n\\nPlease check and confirm; b...     0.0           0   \n",
       "4    Dear Harish,\\n\\nAs discussed over call, we are...     0.0           0   \n",
       "..                                                 ...     ...         ...   \n",
       "144  Dear Customer, \\nPlease note as this is high p...     0.0           0   \n",
       "145  Dear Team,\\n\\nWe are observing alarm is showin...     0.0           0   \n",
       "146  Hi Sunildutt,\\n\\nMain path is UP and stable.\\n...     0.0           0   \n",
       "147  Dear Customer,\\n\\nPlease find below observatio...     1.0     6 hours   \n",
       "148  Dear Customer,\\n\\nMinor packet drops to the WA...     1.0     4 hours   \n",
       "\n",
       "     s1_svc_rstr  s1_no_prob  s1_hold  s1_cd  \n",
       "0              0           0      0.0    1.0  \n",
       "1              0           0      0.0    1.0  \n",
       "2              0           0      0.0    1.0  \n",
       "3              0           0      0.0    1.0  \n",
       "4              0           0      0.0    1.0  \n",
       "..           ...         ...      ...    ...  \n",
       "144            1           0      0.0    1.0  \n",
       "145            1           0      0.0    1.0  \n",
       "146            1           0      0.0    0.0  \n",
       "147            1           1      1.0    0.0  \n",
       "148            1           1      1.0    1.0  \n",
       "\n",
       "[149 rows x 8 columns]"
      ]
     },
     "execution_count": 36,
     "metadata": {},
     "output_type": "execute_result"
    }
   ],
   "source": [
    "import pandas as pd\n",
    "df = pd.read_excel(\"./Scored data_abridged_25 March.xlsx\")\n",
    "df"
   ]
  },
  {
   "cell_type": "code",
   "execution_count": null,
   "id": "99734da6",
   "metadata": {},
   "outputs": [],
   "source": [
    "df['Text'] = df['Notes'].apply(lambda x:x.replace('\\n', ' ')) "
   ]
  },
  {
   "cell_type": "code",
   "execution_count": null,
   "id": "90c5dc57",
   "metadata": {},
   "outputs": [],
   "source": [
    "df['labels'] = [list(x) for x in list(zip(df.s1_etr.tolist(), df.s1_no_prob.tolist(), df.s1_hold.tolist(), df.s1_cd.tolist(), df.s1_svc_rstr.tolist()))]"
   ]
  },
  {
   "cell_type": "code",
   "execution_count": 9,
   "id": "59ba9f6a",
   "metadata": {},
   "outputs": [
    {
     "data": {
      "text/html": [
       "<div>\n",
       "<style scoped>\n",
       "    .dataframe tbody tr th:only-of-type {\n",
       "        vertical-align: middle;\n",
       "    }\n",
       "\n",
       "    .dataframe tbody tr th {\n",
       "        vertical-align: top;\n",
       "    }\n",
       "\n",
       "    .dataframe thead th {\n",
       "        text-align: right;\n",
       "    }\n",
       "</style>\n",
       "<table border=\"1\" class=\"dataframe\">\n",
       "  <thead>\n",
       "    <tr style=\"text-align: right;\">\n",
       "      <th></th>\n",
       "      <th>Owner Group</th>\n",
       "      <th>Notes</th>\n",
       "      <th>s1_etr</th>\n",
       "      <th>s1_etr_time</th>\n",
       "      <th>s1_svc_rstr</th>\n",
       "      <th>s1_no_prob</th>\n",
       "      <th>s1_hold</th>\n",
       "      <th>s1_cd</th>\n",
       "      <th>Text</th>\n",
       "      <th>labels</th>\n",
       "    </tr>\n",
       "  </thead>\n",
       "  <tbody>\n",
       "    <tr>\n",
       "      <th>0</th>\n",
       "      <td>Global Premium Desk</td>\n",
       "      <td>Dear Customer,\\n\\nPlease confirm the current l...</td>\n",
       "      <td>0.0</td>\n",
       "      <td>0</td>\n",
       "      <td>0</td>\n",
       "      <td>0</td>\n",
       "      <td>0.0</td>\n",
       "      <td>1.0</td>\n",
       "      <td>Dear Customer,  Please confirm the current lat...</td>\n",
       "      <td>[0.0, 0, 0.0, 1.0, 0]</td>\n",
       "    </tr>\n",
       "    <tr>\n",
       "      <th>1</th>\n",
       "      <td>Global Premium Desk</td>\n",
       "      <td>Dear Customer,\\n\\nPlease check and confirm; be...</td>\n",
       "      <td>0.0</td>\n",
       "      <td>0</td>\n",
       "      <td>0</td>\n",
       "      <td>0</td>\n",
       "      <td>0.0</td>\n",
       "      <td>1.0</td>\n",
       "      <td>Dear Customer,  Please check and confirm; betw...</td>\n",
       "      <td>[0.0, 0, 0.0, 1.0, 0]</td>\n",
       "    </tr>\n",
       "    <tr>\n",
       "      <th>2</th>\n",
       "      <td>Global Premium Desk</td>\n",
       "      <td>Dear Customer, \\n\\nPlease check and confirm; b...</td>\n",
       "      <td>0.0</td>\n",
       "      <td>0</td>\n",
       "      <td>0</td>\n",
       "      <td>0</td>\n",
       "      <td>0.0</td>\n",
       "      <td>1.0</td>\n",
       "      <td>Dear Customer,   Please check and confirm; bet...</td>\n",
       "      <td>[0.0, 0, 0.0, 1.0, 0]</td>\n",
       "    </tr>\n",
       "    <tr>\n",
       "      <th>3</th>\n",
       "      <td>Global Premium Desk</td>\n",
       "      <td>Dear Customer, \\n\\nPlease check and confirm; b...</td>\n",
       "      <td>0.0</td>\n",
       "      <td>0</td>\n",
       "      <td>0</td>\n",
       "      <td>0</td>\n",
       "      <td>0.0</td>\n",
       "      <td>1.0</td>\n",
       "      <td>Dear Customer,   Please check and confirm; bet...</td>\n",
       "      <td>[0.0, 0, 0.0, 1.0, 0]</td>\n",
       "    </tr>\n",
       "    <tr>\n",
       "      <th>4</th>\n",
       "      <td>Premium SOC</td>\n",
       "      <td>Dear Harish,\\n\\nAs discussed over call, we are...</td>\n",
       "      <td>0.0</td>\n",
       "      <td>0</td>\n",
       "      <td>0</td>\n",
       "      <td>0</td>\n",
       "      <td>0.0</td>\n",
       "      <td>1.0</td>\n",
       "      <td>Dear Harish,  As discussed over call, we are n...</td>\n",
       "      <td>[0.0, 0, 0.0, 1.0, 0]</td>\n",
       "    </tr>\n",
       "  </tbody>\n",
       "</table>\n",
       "</div>"
      ],
      "text/plain": [
       "           Owner Group                                              Notes  \\\n",
       "0  Global Premium Desk  Dear Customer,\\n\\nPlease confirm the current l...   \n",
       "1  Global Premium Desk  Dear Customer,\\n\\nPlease check and confirm; be...   \n",
       "2  Global Premium Desk  Dear Customer, \\n\\nPlease check and confirm; b...   \n",
       "3  Global Premium Desk  Dear Customer, \\n\\nPlease check and confirm; b...   \n",
       "4          Premium SOC  Dear Harish,\\n\\nAs discussed over call, we are...   \n",
       "\n",
       "   s1_etr s1_etr_time  s1_svc_rstr  s1_no_prob  s1_hold  s1_cd  \\\n",
       "0     0.0           0            0           0      0.0    1.0   \n",
       "1     0.0           0            0           0      0.0    1.0   \n",
       "2     0.0           0            0           0      0.0    1.0   \n",
       "3     0.0           0            0           0      0.0    1.0   \n",
       "4     0.0           0            0           0      0.0    1.0   \n",
       "\n",
       "                                                Text                 labels  \n",
       "0  Dear Customer,  Please confirm the current lat...  [0.0, 0, 0.0, 1.0, 0]  \n",
       "1  Dear Customer,  Please check and confirm; betw...  [0.0, 0, 0.0, 1.0, 0]  \n",
       "2  Dear Customer,   Please check and confirm; bet...  [0.0, 0, 0.0, 1.0, 0]  \n",
       "3  Dear Customer,   Please check and confirm; bet...  [0.0, 0, 0.0, 1.0, 0]  \n",
       "4  Dear Harish,  As discussed over call, we are n...  [0.0, 0, 0.0, 1.0, 0]  "
      ]
     },
     "execution_count": 9,
     "metadata": {},
     "output_type": "execute_result"
    }
   ],
   "source": [
    "df.head()"
   ]
  },
  {
   "cell_type": "code",
   "execution_count": 22,
   "id": "10db9b3c",
   "metadata": {},
   "outputs": [
    {
     "data": {
      "text/plain": [
       "Owner Group    0\n",
       "Notes          0\n",
       "s1_etr         1\n",
       "s1_etr_time    2\n",
       "s1_svc_rstr    0\n",
       "s1_no_prob     0\n",
       "s1_hold        6\n",
       "s1_cd          1\n",
       "dtype: int64"
      ]
     },
     "execution_count": 22,
     "metadata": {},
     "output_type": "execute_result"
    }
   ],
   "source": [
    "df.isna().sum()"
   ]
  },
  {
   "cell_type": "code",
   "execution_count": 31,
   "id": "a4eeb3b2",
   "metadata": {},
   "outputs": [
    {
     "data": {
      "text/plain": [
       "nan"
      ]
     },
     "execution_count": 31,
     "metadata": {},
     "output_type": "execute_result"
    }
   ],
   "source": [
    "list(set(list(df['s1_etr'])))[2]"
   ]
  },
  {
   "cell_type": "code",
   "execution_count": 41,
   "id": "70feccbb",
   "metadata": {},
   "outputs": [],
   "source": [
    "df = df.dropna()"
   ]
  },
  {
   "cell_type": "code",
   "execution_count": 37,
   "id": "c6fb62fd",
   "metadata": {},
   "outputs": [
    {
     "data": {
      "text/html": [
       "<div>\n",
       "<style scoped>\n",
       "    .dataframe tbody tr th:only-of-type {\n",
       "        vertical-align: middle;\n",
       "    }\n",
       "\n",
       "    .dataframe tbody tr th {\n",
       "        vertical-align: top;\n",
       "    }\n",
       "\n",
       "    .dataframe thead th {\n",
       "        text-align: right;\n",
       "    }\n",
       "</style>\n",
       "<table border=\"1\" class=\"dataframe\">\n",
       "  <thead>\n",
       "    <tr style=\"text-align: right;\">\n",
       "      <th></th>\n",
       "      <th>Owner Group</th>\n",
       "      <th>Notes</th>\n",
       "      <th>s1_etr</th>\n",
       "      <th>s1_etr_time</th>\n",
       "      <th>s1_svc_rstr</th>\n",
       "      <th>s1_no_prob</th>\n",
       "      <th>s1_hold</th>\n",
       "      <th>s1_cd</th>\n",
       "    </tr>\n",
       "  </thead>\n",
       "  <tbody>\n",
       "    <tr>\n",
       "      <th>91</th>\n",
       "      <td>Global Premium Desk</td>\n",
       "      <td>Dear Customer, \\n\\nWe are checking with our in...</td>\n",
       "      <td>1.0</td>\n",
       "      <td>90 Mins</td>\n",
       "      <td>0</td>\n",
       "      <td>0</td>\n",
       "      <td>NaN</td>\n",
       "      <td>0.0</td>\n",
       "    </tr>\n",
       "    <tr>\n",
       "      <th>103</th>\n",
       "      <td>Global Premium Desk</td>\n",
       "      <td>\\n\\n\\n\\n\\nVCG-1-7-101\\nStart Time\\tEnd Time\\tI...</td>\n",
       "      <td>0.0</td>\n",
       "      <td>0</td>\n",
       "      <td>0</td>\n",
       "      <td>0</td>\n",
       "      <td>NaN</td>\n",
       "      <td>0.0</td>\n",
       "    </tr>\n",
       "    <tr>\n",
       "      <th>106</th>\n",
       "      <td>Global Premium Desk</td>\n",
       "      <td>Dear Customer,\\n\\nWe didn't observing any abno...</td>\n",
       "      <td>NaN</td>\n",
       "      <td>NaN</td>\n",
       "      <td>1</td>\n",
       "      <td>1</td>\n",
       "      <td>NaN</td>\n",
       "      <td>1.0</td>\n",
       "    </tr>\n",
       "    <tr>\n",
       "      <th>115</th>\n",
       "      <td>Global Premium Desk</td>\n",
       "      <td>Dear Customer, \\n\\nWe are not observing frames...</td>\n",
       "      <td>0.0</td>\n",
       "      <td>0</td>\n",
       "      <td>0</td>\n",
       "      <td>0</td>\n",
       "      <td>NaN</td>\n",
       "      <td>1.0</td>\n",
       "    </tr>\n",
       "    <tr>\n",
       "      <th>121</th>\n",
       "      <td>Global Premium Desk</td>\n",
       "      <td>Dear Customer, \\n\\nWe have softly rebooted ETH...</td>\n",
       "      <td>0.0</td>\n",
       "      <td>0</td>\n",
       "      <td>0</td>\n",
       "      <td>0</td>\n",
       "      <td>NaN</td>\n",
       "      <td>1.0</td>\n",
       "    </tr>\n",
       "    <tr>\n",
       "      <th>128</th>\n",
       "      <td>Global Premium Desk</td>\n",
       "      <td>Dear Customer,\\n\\nWe are observing the link is...</td>\n",
       "      <td>0.0</td>\n",
       "      <td>NaN</td>\n",
       "      <td>1</td>\n",
       "      <td>1</td>\n",
       "      <td>NaN</td>\n",
       "      <td>NaN</td>\n",
       "    </tr>\n",
       "  </tbody>\n",
       "</table>\n",
       "</div>"
      ],
      "text/plain": [
       "             Owner Group                                              Notes  \\\n",
       "91   Global Premium Desk  Dear Customer, \\n\\nWe are checking with our in...   \n",
       "103  Global Premium Desk  \\n\\n\\n\\n\\nVCG-1-7-101\\nStart Time\\tEnd Time\\tI...   \n",
       "106  Global Premium Desk  Dear Customer,\\n\\nWe didn't observing any abno...   \n",
       "115  Global Premium Desk  Dear Customer, \\n\\nWe are not observing frames...   \n",
       "121  Global Premium Desk  Dear Customer, \\n\\nWe have softly rebooted ETH...   \n",
       "128  Global Premium Desk  Dear Customer,\\n\\nWe are observing the link is...   \n",
       "\n",
       "     s1_etr s1_etr_time  s1_svc_rstr  s1_no_prob  s1_hold  s1_cd  \n",
       "91      1.0     90 Mins            0           0      NaN    0.0  \n",
       "103     0.0           0            0           0      NaN    0.0  \n",
       "106     NaN         NaN            1           1      NaN    1.0  \n",
       "115     0.0           0            0           0      NaN    1.0  \n",
       "121     0.0           0            0           0      NaN    1.0  \n",
       "128     0.0         NaN            1           1      NaN    NaN  "
      ]
     },
     "execution_count": 37,
     "metadata": {},
     "output_type": "execute_result"
    }
   ],
   "source": [
    "df[df.isna().any(axis=1)]"
   ]
  },
  {
   "cell_type": "code",
   "execution_count": 48,
   "id": "3f6c268e",
   "metadata": {},
   "outputs": [
    {
     "data": {
      "text/plain": [
       "(143, 10)"
      ]
     },
     "execution_count": 48,
     "metadata": {},
     "output_type": "execute_result"
    }
   ],
   "source": [
    "df.shape"
   ]
  },
  {
   "cell_type": "code",
   "execution_count": 50,
   "id": "65db87b8",
   "metadata": {},
   "outputs": [
    {
     "data": {
      "text/plain": [
       "Owner Group    0\n",
       "Notes          0\n",
       "s1_etr         0\n",
       "s1_etr_time    0\n",
       "s1_svc_rstr    0\n",
       "s1_no_prob     0\n",
       "s1_hold        0\n",
       "s1_cd          0\n",
       "Text           0\n",
       "labels         0\n",
       "dtype: int64"
      ]
     },
     "execution_count": 50,
     "metadata": {},
     "output_type": "execute_result"
    }
   ],
   "source": [
    "df.isnull().sum()"
   ]
  },
  {
   "cell_type": "code",
   "execution_count": 43,
   "id": "04ec80c8",
   "metadata": {},
   "outputs": [],
   "source": [
    "from transformers import BertTokenizer, BertForSequenceClassification\n",
    "import torch"
   ]
  },
  {
   "cell_type": "code",
   "execution_count": 44,
   "id": "4b14da59",
   "metadata": {},
   "outputs": [
    {
     "name": "stderr",
     "output_type": "stream",
     "text": [
      "Some weights of the model checkpoint at bert-base-uncased were not used when initializing BertForSequenceClassification: ['cls.seq_relationship.weight', 'cls.predictions.transform.LayerNorm.weight', 'cls.predictions.transform.dense.bias', 'cls.predictions.transform.dense.weight', 'cls.seq_relationship.bias', 'cls.predictions.bias', 'cls.predictions.decoder.weight', 'cls.predictions.transform.LayerNorm.bias']\n",
      "- This IS expected if you are initializing BertForSequenceClassification from the checkpoint of a model trained on another task or with another architecture (e.g. initializing a BertForSequenceClassification model from a BertForPreTraining model).\n",
      "- This IS NOT expected if you are initializing BertForSequenceClassification from the checkpoint of a model that you expect to be exactly identical (initializing a BertForSequenceClassification model from a BertForSequenceClassification model).\n",
      "Some weights of BertForSequenceClassification were not initialized from the model checkpoint at bert-base-uncased and are newly initialized: ['classifier.weight', 'classifier.bias']\n",
      "You should probably TRAIN this model on a down-stream task to be able to use it for predictions and inference.\n"
     ]
    }
   ],
   "source": [
    "tokenizer = BertTokenizer.from_pretrained('bert-base-uncased')\n",
    "model = BertForSequenceClassification.from_pretrained('bert-base-uncased', num_labels = 5)"
   ]
  },
  {
   "cell_type": "code",
   "execution_count": 51,
   "id": "b892cdcb",
   "metadata": {},
   "outputs": [
    {
     "data": {
      "text/html": [
       "<div>\n",
       "<style scoped>\n",
       "    .dataframe tbody tr th:only-of-type {\n",
       "        vertical-align: middle;\n",
       "    }\n",
       "\n",
       "    .dataframe tbody tr th {\n",
       "        vertical-align: top;\n",
       "    }\n",
       "\n",
       "    .dataframe thead th {\n",
       "        text-align: right;\n",
       "    }\n",
       "</style>\n",
       "<table border=\"1\" class=\"dataframe\">\n",
       "  <thead>\n",
       "    <tr style=\"text-align: right;\">\n",
       "      <th></th>\n",
       "      <th>Text</th>\n",
       "      <th>labels</th>\n",
       "    </tr>\n",
       "  </thead>\n",
       "  <tbody>\n",
       "    <tr>\n",
       "      <th>0</th>\n",
       "      <td>Dear Customer,  Please confirm the current lat...</td>\n",
       "      <td>[0.0, 0, 0.0, 1.0, 0]</td>\n",
       "    </tr>\n",
       "    <tr>\n",
       "      <th>1</th>\n",
       "      <td>Dear Customer,  Please check and confirm; betw...</td>\n",
       "      <td>[0.0, 0, 0.0, 1.0, 0]</td>\n",
       "    </tr>\n",
       "    <tr>\n",
       "      <th>2</th>\n",
       "      <td>Dear Customer,   Please check and confirm; bet...</td>\n",
       "      <td>[0.0, 0, 0.0, 1.0, 0]</td>\n",
       "    </tr>\n",
       "    <tr>\n",
       "      <th>3</th>\n",
       "      <td>Dear Customer,   Please check and confirm; bet...</td>\n",
       "      <td>[0.0, 0, 0.0, 1.0, 0]</td>\n",
       "    </tr>\n",
       "    <tr>\n",
       "      <th>4</th>\n",
       "      <td>Dear Harish,  As discussed over call, we are n...</td>\n",
       "      <td>[0.0, 0, 0.0, 1.0, 0]</td>\n",
       "    </tr>\n",
       "  </tbody>\n",
       "</table>\n",
       "</div>"
      ],
      "text/plain": [
       "                                                Text                 labels\n",
       "0  Dear Customer,  Please confirm the current lat...  [0.0, 0, 0.0, 1.0, 0]\n",
       "1  Dear Customer,  Please check and confirm; betw...  [0.0, 0, 0.0, 1.0, 0]\n",
       "2  Dear Customer,   Please check and confirm; bet...  [0.0, 0, 0.0, 1.0, 0]\n",
       "3  Dear Customer,   Please check and confirm; bet...  [0.0, 0, 0.0, 1.0, 0]\n",
       "4  Dear Harish,  As discussed over call, we are n...  [0.0, 0, 0.0, 1.0, 0]"
      ]
     },
     "execution_count": 51,
     "metadata": {},
     "output_type": "execute_result"
    }
   ],
   "source": [
    "new_df = df[['Text', 'labels']].copy()\n",
    "new_df.head()"
   ]
  },
  {
   "cell_type": "code",
   "execution_count": 53,
   "id": "94241567",
   "metadata": {},
   "outputs": [],
   "source": [
    "train_encodings = tokenizer(list(new_df['Text']), truncation=True, padding=True)"
   ]
  },
  {
   "cell_type": "code",
   "execution_count": 54,
   "id": "1f3dc868",
   "metadata": {},
   "outputs": [],
   "source": [
    "class Dataset(torch.utils.data.Dataset):\n",
    "    def __init__(self, encodings, labels):\n",
    "        self.encodings = encodings\n",
    "        self.labels = labels\n",
    "\n",
    "    def __getitem__(self, idx):\n",
    "        item = {key: torch.tensor(val[idx]) for key, val in self.encodings.items()}\n",
    "        item['labels'] = torch.tensor(self.labels[idx])\n",
    "        return item\n",
    "\n",
    "    def __len__(self):\n",
    "        return len(self.labels)\n",
    "\n",
    "train_dataset = Dataset(train_encodings, list(new_df['labels']))"
   ]
  },
  {
   "cell_type": "code",
   "execution_count": 55,
   "id": "c82b9114",
   "metadata": {},
   "outputs": [],
   "source": [
    "from torch.utils.data import DataLoader\n",
    "train_loader = DataLoader(train_dataset, batch_size=8, shuffle=True)"
   ]
  },
  {
   "cell_type": "code",
   "execution_count": 56,
   "id": "a34ff0be",
   "metadata": {},
   "outputs": [
    {
     "name": "stderr",
     "output_type": "stream",
     "text": [
      "  6%|▌         | 1/18 [00:01<00:27,  1.60s/it]"
     ]
    },
    {
     "name": "stdout",
     "output_type": "stream",
     "text": [
      "loss: 0.693056046962738\n"
     ]
    },
    {
     "name": "stderr",
     "output_type": "stream",
     "text": [
      " 61%|██████    | 11/18 [00:08<00:05,  1.37it/s]"
     ]
    },
    {
     "name": "stdout",
     "output_type": "stream",
     "text": [
      "loss: 0.6045651435852051\n"
     ]
    },
    {
     "name": "stderr",
     "output_type": "stream",
     "text": [
      "100%|██████████| 18/18 [00:13<00:00,  1.31it/s]\n",
      "  6%|▌         | 1/18 [00:00<00:12,  1.33it/s]"
     ]
    },
    {
     "name": "stdout",
     "output_type": "stream",
     "text": [
      "loss: 0.6937540769577026\n"
     ]
    },
    {
     "name": "stderr",
     "output_type": "stream",
     "text": [
      " 61%|██████    | 11/18 [00:08<00:05,  1.36it/s]"
     ]
    },
    {
     "name": "stdout",
     "output_type": "stream",
     "text": [
      "loss: 0.5735995173454285\n"
     ]
    },
    {
     "name": "stderr",
     "output_type": "stream",
     "text": [
      "100%|██████████| 18/18 [00:13<00:00,  1.38it/s]\n",
      "  6%|▌         | 1/18 [00:00<00:13,  1.30it/s]"
     ]
    },
    {
     "name": "stdout",
     "output_type": "stream",
     "text": [
      "loss: 0.6097437143325806\n"
     ]
    },
    {
     "name": "stderr",
     "output_type": "stream",
     "text": [
      " 61%|██████    | 11/18 [00:08<00:05,  1.34it/s]"
     ]
    },
    {
     "name": "stdout",
     "output_type": "stream",
     "text": [
      "loss: 0.46721577644348145\n"
     ]
    },
    {
     "name": "stderr",
     "output_type": "stream",
     "text": [
      "100%|██████████| 18/18 [00:13<00:00,  1.35it/s]\n"
     ]
    }
   ],
   "source": [
    "from tqdm import tqdm\n",
    "device = 'cuda' if torch.cuda.is_available() else 'cpu'\n",
    "model.train().to(device)\n",
    "optimizer = torch.optim.AdamW(params=model.parameters(), lr=1e-5)\n",
    "for epoch in range(3):\n",
    "    for i, batch in enumerate(tqdm(train_loader)):\n",
    "        batch = {k: v.to(device) for k, v in batch.items()}\n",
    "        outputs = model(**batch)\n",
    "        loss = outputs[0]\n",
    "        loss.backward()\n",
    "        optimizer.step()\n",
    "        optimizer.zero_grad()\n",
    "        if i % 10 == 0:\n",
    "            print(f\"loss: {loss}\")"
   ]
  },
  {
   "cell_type": "code",
   "execution_count": 121,
   "id": "5794616f",
   "metadata": {},
   "outputs": [],
   "source": [
    "tk = torch.tensor(tokenizer.encode(new_df['Text'][0]))"
   ]
  },
  {
   "cell_type": "code",
   "execution_count": 122,
   "id": "96cbcad5",
   "metadata": {},
   "outputs": [],
   "source": [
    "logits = model(tk.unsqueeze(0).to(device))"
   ]
  },
  {
   "cell_type": "code",
   "execution_count": 123,
   "id": "8d8cb5f0",
   "metadata": {},
   "outputs": [
    {
     "data": {
      "text/plain": [
       "tensor([[-0.9635, -0.3473, -0.9569,  0.1554, -0.9816]])"
      ]
     },
     "execution_count": 123,
     "metadata": {},
     "output_type": "execute_result"
    }
   ],
   "source": [
    "torch.tensor(logits.logits.detach().cpu().numpy())"
   ]
  },
  {
   "cell_type": "code",
   "execution_count": 124,
   "id": "f5f9ab9d",
   "metadata": {},
   "outputs": [],
   "source": [
    "x = logits.logits.detach().cpu().numpy()"
   ]
  },
  {
   "cell_type": "code",
   "execution_count": 125,
   "id": "4f920a71",
   "metadata": {},
   "outputs": [
    {
     "data": {
      "text/plain": [
       "tensor([[0.1266, 0.2344, 0.1274, 0.3874, 0.1243]])"
      ]
     },
     "execution_count": 125,
     "metadata": {},
     "output_type": "execute_result"
    }
   ],
   "source": [
    "torch.softmax(torch.tensor(x), dim=-1)"
   ]
  },
  {
   "cell_type": "code",
   "execution_count": 109,
   "id": "ad7c829e",
   "metadata": {},
   "outputs": [
    {
     "data": {
      "text/plain": [
       "0    Dear Customer,  Please confirm the current lat...\n",
       "Name: Text, dtype: object"
      ]
     },
     "execution_count": 109,
     "metadata": {},
     "output_type": "execute_result"
    }
   ],
   "source": [
    "new_df[:1]['Text']"
   ]
  },
  {
   "cell_type": "code",
   "execution_count": 110,
   "id": "d1f4c651",
   "metadata": {},
   "outputs": [
    {
     "data": {
      "text/plain": [
       "0    [0.0, 0, 0.0, 1.0, 0]\n",
       "Name: labels, dtype: object"
      ]
     },
     "execution_count": 110,
     "metadata": {},
     "output_type": "execute_result"
    }
   ],
   "source": [
    "new_df[:1]['labels']"
   ]
  },
  {
   "cell_type": "code",
   "execution_count": 150,
   "id": "057110b8",
   "metadata": {},
   "outputs": [],
   "source": [
    "li = []\n",
    "for i in new_df['Text']:\n",
    "    tk = torch.tensor(tokenizer.encode(i, truncation=True))\n",
    "    logits = model(tk.unsqueeze(0).to(device))\n",
    "    tk = (torch.softmax(torch.tensor(logits.logits.detach().cpu().numpy()), dim=-1)).tolist()[0]\n",
    "    li.append([np.round(x, decimals=2) for x in tk])"
   ]
  },
  {
   "cell_type": "code",
   "execution_count": null,
   "id": "7bdd5490",
   "metadata": {},
   "outputs": [],
   "source": [
    "df['Predicted'] = li"
   ]
  },
  {
   "cell_type": "code",
   "execution_count": 154,
   "id": "b3b2a143",
   "metadata": {},
   "outputs": [],
   "source": [
    "new_df['Predicted'] = li"
   ]
  },
  {
   "cell_type": "code",
   "execution_count": 156,
   "id": "aae57974",
   "metadata": {},
   "outputs": [
    {
     "data": {
      "text/html": [
       "<div>\n",
       "<style scoped>\n",
       "    .dataframe tbody tr th:only-of-type {\n",
       "        vertical-align: middle;\n",
       "    }\n",
       "\n",
       "    .dataframe tbody tr th {\n",
       "        vertical-align: top;\n",
       "    }\n",
       "\n",
       "    .dataframe thead th {\n",
       "        text-align: right;\n",
       "    }\n",
       "</style>\n",
       "<table border=\"1\" class=\"dataframe\">\n",
       "  <thead>\n",
       "    <tr style=\"text-align: right;\">\n",
       "      <th></th>\n",
       "      <th>Text</th>\n",
       "      <th>labels</th>\n",
       "      <th>Predicted</th>\n",
       "    </tr>\n",
       "  </thead>\n",
       "  <tbody>\n",
       "    <tr>\n",
       "      <th>0</th>\n",
       "      <td>Dear Customer,  Please confirm the current lat...</td>\n",
       "      <td>[0.0, 0, 0.0, 1.0, 0]</td>\n",
       "      <td>[0.1, 0.14, 0.06, 0.55, 0.14]</td>\n",
       "    </tr>\n",
       "    <tr>\n",
       "      <th>1</th>\n",
       "      <td>Dear Customer,  Please check and confirm; betw...</td>\n",
       "      <td>[0.0, 0, 0.0, 1.0, 0]</td>\n",
       "      <td>[0.1, 0.13, 0.07, 0.58, 0.13]</td>\n",
       "    </tr>\n",
       "    <tr>\n",
       "      <th>2</th>\n",
       "      <td>Dear Customer,   Please check and confirm; bet...</td>\n",
       "      <td>[0.0, 0, 0.0, 1.0, 0]</td>\n",
       "      <td>[0.13, 0.18, 0.09, 0.47, 0.13]</td>\n",
       "    </tr>\n",
       "    <tr>\n",
       "      <th>3</th>\n",
       "      <td>Dear Customer,   Please check and confirm; bet...</td>\n",
       "      <td>[0.0, 0, 0.0, 1.0, 0]</td>\n",
       "      <td>[0.09, 0.13, 0.08, 0.59, 0.11]</td>\n",
       "    </tr>\n",
       "    <tr>\n",
       "      <th>4</th>\n",
       "      <td>Dear Harish,  As discussed over call, we are n...</td>\n",
       "      <td>[0.0, 0, 0.0, 1.0, 0]</td>\n",
       "      <td>[0.08, 0.15, 0.1, 0.57, 0.09]</td>\n",
       "    </tr>\n",
       "  </tbody>\n",
       "</table>\n",
       "</div>"
      ],
      "text/plain": [
       "                                                Text                 labels  \\\n",
       "0  Dear Customer,  Please confirm the current lat...  [0.0, 0, 0.0, 1.0, 0]   \n",
       "1  Dear Customer,  Please check and confirm; betw...  [0.0, 0, 0.0, 1.0, 0]   \n",
       "2  Dear Customer,   Please check and confirm; bet...  [0.0, 0, 0.0, 1.0, 0]   \n",
       "3  Dear Customer,   Please check and confirm; bet...  [0.0, 0, 0.0, 1.0, 0]   \n",
       "4  Dear Harish,  As discussed over call, we are n...  [0.0, 0, 0.0, 1.0, 0]   \n",
       "\n",
       "                        Predicted  \n",
       "0   [0.1, 0.14, 0.06, 0.55, 0.14]  \n",
       "1   [0.1, 0.13, 0.07, 0.58, 0.13]  \n",
       "2  [0.13, 0.18, 0.09, 0.47, 0.13]  \n",
       "3  [0.09, 0.13, 0.08, 0.59, 0.11]  \n",
       "4   [0.08, 0.15, 0.1, 0.57, 0.09]  "
      ]
     },
     "execution_count": 156,
     "metadata": {},
     "output_type": "execute_result"
    }
   ],
   "source": [
    "new_df.head()"
   ]
  },
  {
   "cell_type": "code",
   "execution_count": null,
   "id": "a48f3e41",
   "metadata": {},
   "outputs": [],
   "source": [
    "df.s1_etr.tolist(), df.s1_no_prob.tolist(), df.s1_hold.tolist(), df.s1_cd.tolist(), df.s1_svc_rstr.tolist()"
   ]
  },
  {
   "cell_type": "code",
   "execution_count": 299,
   "id": "2705b6ee",
   "metadata": {},
   "outputs": [
    {
     "data": {
      "image/png": "[encoded data removed]",
      "text/plain": [
       "<Figure size 1440x1440 with 6 Axes>"
      ]
     },
     "metadata": {
      "needs_background": "light"
     },
     "output_type": "display_data"
    }
   ],
   "source": [
    "import seaborn as sns\n",
    "import matplotlib.pyplot as plt\n",
    "%matplotlib inline\n",
    "fig, axs = plt.subplots(3, 2, figsize=(20, 20))\n",
    "sns.countplot(y='s1_etr',data=df, ax = axs[0, 0], order=df.s1_etr.value_counts().iloc[\n",
    "    0:19].index).set_title(\"Estimated Time for Resolution (ETR) Mentioned or Not\")\n",
    "sns.countplot(y='s1_no_prob',data=df, ax = axs[0, 1], order=df.s1_no_prob.value_counts().iloc[\n",
    "    0:19].index).set_title(\"If no problem found\")\n",
    "sns.countplot(y='s1_hold',data=df, ax = axs[1, 0], order=df.s1_hold.value_counts().iloc[\n",
    "    0:19].index).set_title(\" If the ticket is going on hold\")\n",
    "sns.countplot(y='s1_cd',data=df, ax = axs[1, 1], order=df.s1_cd.value_counts().iloc[\n",
    "    0:19].index).set_title(\"If there is a customer dependency\")\n",
    "sns.countplot(y='s1_svc_rstr',data=df, ax = axs[2, 0], order=df.s1_svc_rstr.value_counts().iloc[\n",
    "    0:19].index).set_title(\" If service has been restored\")\n",
    "axs[2][1].set_visible(False)"
   ]
  },
  {
   "cell_type": "markdown",
   "id": "7d2e70a8",
   "metadata": {},
   "source": [
    "## Confusion Matrix for Multilabel Classifier"
   ]
  },
  {
   "cell_type": "code",
   "execution_count": 287,
   "id": "0c58872a",
   "metadata": {},
   "outputs": [],
   "source": [
    "li = []\n",
    "for x in list(new_df['Predicted']):\n",
    "    z = []\n",
    "    for i in range(len(x)):\n",
    "        if(i==3):\n",
    "            if(x[i]<0.48):\n",
    "                z.append(0)\n",
    "            else:\n",
    "                z.append(1)\n",
    "        elif(i==1):\n",
    "            if(x[i]<0.3):\n",
    "                z.append(0)\n",
    "            else:\n",
    "                z.append(1)\n",
    "        else:\n",
    "            if(x[i]<0.17):\n",
    "                z.append(0)\n",
    "            else:\n",
    "                z.append(1)\n",
    "    li.append(z)"
   ]
  },
  {
   "cell_type": "code",
   "execution_count": 219,
   "id": "4af4c585",
   "metadata": {},
   "outputs": [],
   "source": [
    "tli = []\n",
    "for x in list(new_df['labels']):\n",
    "    tli.append([int(y) for y in x])"
   ]
  },
  {
   "cell_type": "code",
   "execution_count": 289,
   "id": "59506e16",
   "metadata": {},
   "outputs": [],
   "source": [
    "from sklearn.metrics import multilabel_confusion_matrix\n",
    "matrix = multilabel_confusion_matrix(tli, li)"
   ]
  },
  {
   "cell_type": "code",
   "execution_count": 298,
   "id": "9e849587",
   "metadata": {},
   "outputs": [
    {
     "data": {
      "image/png": "[encoded data removed]",
      "text/plain": [
       "<Figure size 1440x1440 with 11 Axes>"
      ]
     },
     "metadata": {
      "needs_background": "light"
     },
     "output_type": "display_data"
    }
   ],
   "source": [
    "fig, axs = plt.subplots(3, 2, figsize=(20, 20))\n",
    "\n",
    "sns.heatmap(pd.DataFrame(matrix[0]), annot=True, fmt='g', ax = axs[0][0])\n",
    "sns.heatmap(pd.DataFrame(matrix[1]), annot=True, fmt='g', ax = axs[0][1])\n",
    "sns.heatmap(pd.DataFrame(matrix[2]), annot=True, fmt='g', ax = axs[1][0])\n",
    "sns.heatmap(pd.DataFrame(matrix[3]), annot=True, fmt='g', ax = axs[1][1])\n",
    "sns.heatmap(pd.DataFrame(matrix[4]), annot=True, fmt='g', ax = axs[2][0])\n",
    "axs[2][1].set_visible(False)"
   ]
  },
  {
   "cell_type": "markdown",
   "id": "8abec745",
   "metadata": {},
   "source": [
    "## Extract Resolution Time from the Emails where s1_etr == 1"
   ]
  },
  {
   "cell_type": "code",
   "execution_count": 302,
   "id": "8b25a7be",
   "metadata": {},
   "outputs": [],
   "source": [
    "test = df.groupby('s1_etr')"
   ]
  },
  {
   "cell_type": "code",
   "execution_count": 310,
   "id": "4fcad0fd",
   "metadata": {},
   "outputs": [
    {
     "data": {
      "text/html": [
       "<div>\n",
       "<style scoped>\n",
       "    .dataframe tbody tr th:only-of-type {\n",
       "        vertical-align: middle;\n",
       "    }\n",
       "\n",
       "    .dataframe tbody tr th {\n",
       "        vertical-align: top;\n",
       "    }\n",
       "\n",
       "    .dataframe thead th {\n",
       "        text-align: right;\n",
       "    }\n",
       "</style>\n",
       "<table border=\"1\" class=\"dataframe\">\n",
       "  <thead>\n",
       "    <tr style=\"text-align: right;\">\n",
       "      <th></th>\n",
       "      <th>s1_etr_time</th>\n",
       "    </tr>\n",
       "  </thead>\n",
       "  <tbody>\n",
       "    <tr>\n",
       "      <th>14</th>\n",
       "      <td>90 mins</td>\n",
       "    </tr>\n",
       "    <tr>\n",
       "      <th>20</th>\n",
       "      <td>hour</td>\n",
       "    </tr>\n",
       "    <tr>\n",
       "      <th>21</th>\n",
       "      <td>24 hours</td>\n",
       "    </tr>\n",
       "    <tr>\n",
       "      <th>22</th>\n",
       "      <td>4 hours</td>\n",
       "    </tr>\n",
       "    <tr>\n",
       "      <th>37</th>\n",
       "      <td>2 hours</td>\n",
       "    </tr>\n",
       "    <tr>\n",
       "      <th>41</th>\n",
       "      <td>90 mins</td>\n",
       "    </tr>\n",
       "    <tr>\n",
       "      <th>53</th>\n",
       "      <td>4 hrs</td>\n",
       "    </tr>\n",
       "    <tr>\n",
       "      <th>54</th>\n",
       "      <td>3:30 Hrs</td>\n",
       "    </tr>\n",
       "    <tr>\n",
       "      <th>63</th>\n",
       "      <td>90 mins</td>\n",
       "    </tr>\n",
       "    <tr>\n",
       "      <th>67</th>\n",
       "      <td>4 hours</td>\n",
       "    </tr>\n",
       "    <tr>\n",
       "      <th>69</th>\n",
       "      <td>60 mins</td>\n",
       "    </tr>\n",
       "    <tr>\n",
       "      <th>71</th>\n",
       "      <td>24hours</td>\n",
       "    </tr>\n",
       "    <tr>\n",
       "      <th>73</th>\n",
       "      <td>3 hours</td>\n",
       "    </tr>\n",
       "    <tr>\n",
       "      <th>74</th>\n",
       "      <td>90 mins</td>\n",
       "    </tr>\n",
       "    <tr>\n",
       "      <th>76</th>\n",
       "      <td>90 minutes</td>\n",
       "    </tr>\n",
       "    <tr>\n",
       "      <th>77</th>\n",
       "      <td>90 Mins</td>\n",
       "    </tr>\n",
       "    <tr>\n",
       "      <th>87</th>\n",
       "      <td>24 hours</td>\n",
       "    </tr>\n",
       "    <tr>\n",
       "      <th>90</th>\n",
       "      <td>2 hrs</td>\n",
       "    </tr>\n",
       "    <tr>\n",
       "      <th>94</th>\n",
       "      <td>60 mins</td>\n",
       "    </tr>\n",
       "    <tr>\n",
       "      <th>104</th>\n",
       "      <td>8 hours</td>\n",
       "    </tr>\n",
       "    <tr>\n",
       "      <th>119</th>\n",
       "      <td>24 hrs</td>\n",
       "    </tr>\n",
       "    <tr>\n",
       "      <th>124</th>\n",
       "      <td>2 hrs</td>\n",
       "    </tr>\n",
       "    <tr>\n",
       "      <th>132</th>\n",
       "      <td>2 hrs</td>\n",
       "    </tr>\n",
       "    <tr>\n",
       "      <th>133</th>\n",
       "      <td>90 mins</td>\n",
       "    </tr>\n",
       "    <tr>\n",
       "      <th>134</th>\n",
       "      <td>6 hrs</td>\n",
       "    </tr>\n",
       "    <tr>\n",
       "      <th>135</th>\n",
       "      <td>2 hours</td>\n",
       "    </tr>\n",
       "    <tr>\n",
       "      <th>147</th>\n",
       "      <td>6 hours</td>\n",
       "    </tr>\n",
       "    <tr>\n",
       "      <th>148</th>\n",
       "      <td>4 hours</td>\n",
       "    </tr>\n",
       "  </tbody>\n",
       "</table>\n",
       "</div>"
      ],
      "text/plain": [
       "    s1_etr_time\n",
       "14      90 mins\n",
       "20         hour\n",
       "21     24 hours\n",
       "22      4 hours\n",
       "37      2 hours\n",
       "41      90 mins\n",
       "53        4 hrs\n",
       "54     3:30 Hrs\n",
       "63      90 mins\n",
       "67      4 hours\n",
       "69      60 mins\n",
       "71      24hours\n",
       "73      3 hours\n",
       "74      90 mins\n",
       "76   90 minutes\n",
       "77      90 Mins\n",
       "87     24 hours\n",
       "90        2 hrs\n",
       "94      60 mins\n",
       "104     8 hours\n",
       "119      24 hrs\n",
       "124       2 hrs\n",
       "132       2 hrs\n",
       "133     90 mins\n",
       "134       6 hrs\n",
       "135     2 hours\n",
       "147     6 hours\n",
       "148     4 hours"
      ]
     },
     "execution_count": 310,
     "metadata": {},
     "output_type": "execute_result"
    }
   ],
   "source": [
    "pd.DataFrame(test.get_group(1.0)['s1_etr_time'])"
   ]
  },
  {
   "cell_type": "code",
   "execution_count": null,
   "id": "9b5786a2",
   "metadata": {
    "scrolled": true
   },
   "outputs": [],
   "source": [
    "df['encodings'] = train_encodings['input_ids']"
   ]
  },
  {
   "cell_type": "code",
   "execution_count": 324,
   "id": "a0ad5630",
   "metadata": {},
   "outputs": [],
   "source": [
    "newdf = pd.DataFrame(train_encodings['input_ids'])"
   ]
  },
  {
   "cell_type": "code",
   "execution_count": 333,
   "id": "b6c8ef43",
   "metadata": {},
   "outputs": [
    {
     "data": {
      "text/plain": [
       "[[0.0, 0],\n",
       " [0.0, 0],\n",
       " [0.0, 0],\n",
       " [0.0, 0],\n",
       " [0.0, 0],\n",
       " [0.0, 0],\n",
       " [0.0, 0],\n",
       " [0.0, 0],\n",
       " [0.0, 0],\n",
       " [0.0, 0],\n",
       " [0.0, 0],\n",
       " [0.0, 0],\n",
       " [0.0, 0],\n",
       " [0.0, 1],\n",
       " [1.0, 0],\n",
       " [0.0, 0],\n",
       " [0.0, 0],\n",
       " [0.0, 0],\n",
       " [0.0, 0],\n",
       " [0.0, 0],\n",
       " [1.0, 0],\n",
       " [1.0, 0],\n",
       " [1.0, 0],\n",
       " [0.0, 0],\n",
       " [0.0, 0],\n",
       " [0.0, 0],\n",
       " [0.0, 0],\n",
       " [0.0, 0],\n",
       " [0.0, 0],\n",
       " [0.0, 0],\n",
       " [0.0, 1],\n",
       " [0.0, 1],\n",
       " [0.0, 1],\n",
       " [0.0, 1],\n",
       " [0.0, 1],\n",
       " [0.0, 1],\n",
       " [0.0, 0],\n",
       " [1.0, 1],\n",
       " [0.0, 0],\n",
       " [0.0, 0],\n",
       " [0.0, 0],\n",
       " [1.0, 0],\n",
       " [0.0, 1],\n",
       " [0.0, 0],\n",
       " [0.0, 0],\n",
       " [0.0, 0],\n",
       " [0.0, 0],\n",
       " [0.0, 0],\n",
       " [0.0, 0],\n",
       " [0.0, 0],\n",
       " [0.0, 0],\n",
       " [0.0, 1],\n",
       " [0.0, 1],\n",
       " [1.0, 0],\n",
       " [1.0, 0],\n",
       " [0.0, 1],\n",
       " [0.0, 0],\n",
       " [0.0, 0],\n",
       " [0.0, 0],\n",
       " [0.0, 1],\n",
       " [0.0, 0],\n",
       " [0.0, 0],\n",
       " [0.0, 0],\n",
       " [1.0, 0],\n",
       " [0.0, 0],\n",
       " [0.0, 0],\n",
       " [0.0, 0],\n",
       " [1.0, 0],\n",
       " [0.0, 0],\n",
       " [1.0, 0],\n",
       " [0.0, 0],\n",
       " [1.0, 0],\n",
       " [0.0, 1],\n",
       " [1.0, 1],\n",
       " [1.0, 0],\n",
       " [0.0, 0],\n",
       " [1.0, 0],\n",
       " [1.0, 0],\n",
       " [0.0, 0],\n",
       " [0.0, 0],\n",
       " [0.0, 0],\n",
       " [0.0, 0],\n",
       " [0.0, 0],\n",
       " [0.0, 1],\n",
       " [0.0, 1],\n",
       " [0.0, 1],\n",
       " [0.0, 0],\n",
       " [1.0, 0],\n",
       " [0.0, 1],\n",
       " [0.0, 0],\n",
       " [1.0, 0],\n",
       " [0.0, 0],\n",
       " [0.0, 0],\n",
       " [1.0, 0],\n",
       " [0.0, 0],\n",
       " [0.0, 1],\n",
       " [0.0, 0],\n",
       " [0.0, 0],\n",
       " [0.0, 0],\n",
       " [0.0, 1],\n",
       " [0.0, 1],\n",
       " [0.0, 0],\n",
       " [1.0, 1],\n",
       " [0.0, 0],\n",
       " [0.0, 0],\n",
       " [0.0, 0],\n",
       " [0.0, 1],\n",
       " [0.0, 0],\n",
       " [0.0, 0],\n",
       " [0.0, 0],\n",
       " [0.0, 0],\n",
       " [0.0, 0],\n",
       " [0.0, 0],\n",
       " [0.0, 0],\n",
       " [0.0, 0],\n",
       " [1.0, 0],\n",
       " [0.0, 0],\n",
       " [0.0, 0],\n",
       " [0.0, 0],\n",
       " [1.0, 0],\n",
       " [0.0, 0],\n",
       " [0.0, 0],\n",
       " [0.0, 1],\n",
       " [0.0, 1],\n",
       " [0.0, 0],\n",
       " [0.0, 0],\n",
       " [1.0, 0],\n",
       " [1.0, 1],\n",
       " [1.0, 1],\n",
       " [1.0, 1],\n",
       " [0.0, 1],\n",
       " [0.0, 0],\n",
       " [0.0, 0],\n",
       " [0.0, 0],\n",
       " [0.0, 0],\n",
       " [0.0, 1],\n",
       " [0.0, 1],\n",
       " [0.0, 0],\n",
       " [0.0, 0],\n",
       " [0.0, 0],\n",
       " [0.0, 0],\n",
       " [1.0, 1],\n",
       " [1.0, 1]]"
      ]
     },
     "execution_count": 333,
     "metadata": {},
     "output_type": "execute_result"
    }
   ],
   "source": [
    "[list(x) for x in list(zip(df.s1_etr.tolist(), df.s1_no_prob.tolist()))]"
   ]
  },
  {
   "cell_type": "code",
   "execution_count": 326,
   "id": "70e5dc00",
   "metadata": {},
   "outputs": [],
   "source": [
    "from sklearn.multioutput import MultiOutputClassifier\n",
    "from sklearn.ensemble import RandomForestClassifier"
   ]
  },
  {
   "cell_type": "code",
   "execution_count": 327,
   "id": "2470f59a",
   "metadata": {},
   "outputs": [],
   "source": [
    "forest = RandomForestClassifier(random_state=1)"
   ]
  },
  {
   "cell_type": "code",
   "execution_count": 328,
   "id": "6ee740c9",
   "metadata": {},
   "outputs": [],
   "source": [
    "multi_target_forest = MultiOutputClassifier(forest, n_jobs=-1)"
   ]
  },
  {
   "cell_type": "code",
   "execution_count": 329,
   "id": "4e95a9fb",
   "metadata": {},
   "outputs": [
    {
     "ename": "ValueError",
     "evalue": "You appear to be using a legacy multi-label data representation. Sequence of sequences are no longer supported; use a binary array or sparse matrix instead - the MultiLabelBinarizer transformer can convert to this format.",
     "output_type": "error",
     "traceback": [
      "\u001b[0;31m---------------------------------------------------------------------------\u001b[0m",
      "\u001b[0;31mValueError\u001b[0m                                Traceback (most recent call last)",
      "\u001b[0;32m<ipython-input-329-35a245612488>\u001b[0m in \u001b[0;36m<module>\u001b[0;34m\u001b[0m\n\u001b[0;32m----> 1\u001b[0;31m \u001b[0mmulti_target_forest\u001b[0m\u001b[0;34m.\u001b[0m\u001b[0mfit\u001b[0m\u001b[0;34m(\u001b[0m\u001b[0mnewdf\u001b[0m\u001b[0;34m,\u001b[0m \u001b[0mdf\u001b[0m\u001b[0;34m[\u001b[0m\u001b[0;34m'labels'\u001b[0m\u001b[0;34m]\u001b[0m\u001b[0;34m)\u001b[0m\u001b[0;34m\u001b[0m\u001b[0;34m\u001b[0m\u001b[0m\n\u001b[0m",
      "\u001b[0;32m/opt/conda/lib/python3.7/site-packages/sklearn/multioutput.py\u001b[0m in \u001b[0;36mfit\u001b[0;34m(self, X, Y, sample_weight, **fit_params)\u001b[0m\n\u001b[1;32m    366\u001b[0m         \u001b[0mself\u001b[0m \u001b[0;34m:\u001b[0m \u001b[0mobject\u001b[0m\u001b[0;34m\u001b[0m\u001b[0;34m\u001b[0m\u001b[0m\n\u001b[1;32m    367\u001b[0m         \"\"\"\n\u001b[0;32m--> 368\u001b[0;31m         \u001b[0msuper\u001b[0m\u001b[0;34m(\u001b[0m\u001b[0;34m)\u001b[0m\u001b[0;34m.\u001b[0m\u001b[0mfit\u001b[0m\u001b[0;34m(\u001b[0m\u001b[0mX\u001b[0m\u001b[0;34m,\u001b[0m \u001b[0mY\u001b[0m\u001b[0;34m,\u001b[0m \u001b[0msample_weight\u001b[0m\u001b[0;34m,\u001b[0m \u001b[0;34m**\u001b[0m\u001b[0mfit_params\u001b[0m\u001b[0;34m)\u001b[0m\u001b[0;34m\u001b[0m\u001b[0;34m\u001b[0m\u001b[0m\n\u001b[0m\u001b[1;32m    369\u001b[0m         \u001b[0mself\u001b[0m\u001b[0;34m.\u001b[0m\u001b[0mclasses_\u001b[0m \u001b[0;34m=\u001b[0m \u001b[0;34m[\u001b[0m\u001b[0mestimator\u001b[0m\u001b[0;34m.\u001b[0m\u001b[0mclasses_\u001b[0m \u001b[0;32mfor\u001b[0m \u001b[0mestimator\u001b[0m \u001b[0;32min\u001b[0m \u001b[0mself\u001b[0m\u001b[0;34m.\u001b[0m\u001b[0mestimators_\u001b[0m\u001b[0;34m]\u001b[0m\u001b[0;34m\u001b[0m\u001b[0;34m\u001b[0m\u001b[0m\n\u001b[1;32m    370\u001b[0m         \u001b[0;32mreturn\u001b[0m \u001b[0mself\u001b[0m\u001b[0;34m\u001b[0m\u001b[0;34m\u001b[0m\u001b[0m\n",
      "\u001b[0;32m/opt/conda/lib/python3.7/site-packages/sklearn/multioutput.py\u001b[0m in \u001b[0;36mfit\u001b[0;34m(self, X, y, sample_weight, **fit_params)\u001b[0m\n\u001b[1;32m    163\u001b[0m \u001b[0;34m\u001b[0m\u001b[0m\n\u001b[1;32m    164\u001b[0m         \u001b[0;32mif\u001b[0m \u001b[0mis_classifier\u001b[0m\u001b[0;34m(\u001b[0m\u001b[0mself\u001b[0m\u001b[0;34m)\u001b[0m\u001b[0;34m:\u001b[0m\u001b[0;34m\u001b[0m\u001b[0;34m\u001b[0m\u001b[0m\n\u001b[0;32m--> 165\u001b[0;31m             \u001b[0mcheck_classification_targets\u001b[0m\u001b[0;34m(\u001b[0m\u001b[0my\u001b[0m\u001b[0;34m)\u001b[0m\u001b[0;34m\u001b[0m\u001b[0;34m\u001b[0m\u001b[0m\n\u001b[0m\u001b[1;32m    166\u001b[0m \u001b[0;34m\u001b[0m\u001b[0m\n\u001b[1;32m    167\u001b[0m         \u001b[0;32mif\u001b[0m \u001b[0my\u001b[0m\u001b[0;34m.\u001b[0m\u001b[0mndim\u001b[0m \u001b[0;34m==\u001b[0m \u001b[0;36m1\u001b[0m\u001b[0;34m:\u001b[0m\u001b[0;34m\u001b[0m\u001b[0;34m\u001b[0m\u001b[0m\n",
      "\u001b[0;32m/opt/conda/lib/python3.7/site-packages/sklearn/utils/multiclass.py\u001b[0m in \u001b[0;36mcheck_classification_targets\u001b[0;34m(y)\u001b[0m\n\u001b[1;32m    178\u001b[0m     \u001b[0my\u001b[0m \u001b[0;34m:\u001b[0m \u001b[0marray\u001b[0m\u001b[0;34m-\u001b[0m\u001b[0mlike\u001b[0m\u001b[0;34m\u001b[0m\u001b[0;34m\u001b[0m\u001b[0m\n\u001b[1;32m    179\u001b[0m     \"\"\"\n\u001b[0;32m--> 180\u001b[0;31m     \u001b[0my_type\u001b[0m \u001b[0;34m=\u001b[0m \u001b[0mtype_of_target\u001b[0m\u001b[0;34m(\u001b[0m\u001b[0my\u001b[0m\u001b[0;34m)\u001b[0m\u001b[0;34m\u001b[0m\u001b[0;34m\u001b[0m\u001b[0m\n\u001b[0m\u001b[1;32m    181\u001b[0m     if y_type not in ['binary', 'multiclass', 'multiclass-multioutput',\n\u001b[1;32m    182\u001b[0m                       'multilabel-indicator', 'multilabel-sequences']:\n",
      "\u001b[0;32m/opt/conda/lib/python3.7/site-packages/sklearn/utils/multiclass.py\u001b[0m in \u001b[0;36mtype_of_target\u001b[0;34m(y)\u001b[0m\n\u001b[1;32m    277\u001b[0m         if (not hasattr(y[0], '__array__') and isinstance(y[0], Sequence)\n\u001b[1;32m    278\u001b[0m                 and not isinstance(y[0], str)):\n\u001b[0;32m--> 279\u001b[0;31m             raise ValueError('You appear to be using a legacy multi-label data'\n\u001b[0m\u001b[1;32m    280\u001b[0m                              \u001b[0;34m' representation. Sequence of sequences are no'\u001b[0m\u001b[0;34m\u001b[0m\u001b[0;34m\u001b[0m\u001b[0m\n\u001b[1;32m    281\u001b[0m                              \u001b[0;34m' longer supported; use a binary array or sparse'\u001b[0m\u001b[0;34m\u001b[0m\u001b[0;34m\u001b[0m\u001b[0m\n",
      "\u001b[0;31mValueError\u001b[0m: You appear to be using a legacy multi-label data representation. Sequence of sequences are no longer supported; use a binary array or sparse matrix instead - the MultiLabelBinarizer transformer can convert to this format."
     ]
    }
   ],
   "source": [
    "multi_target_forest.fit(newdf, df['labels'])"
   ]
  }
 ],
 "metadata": {
  "environment": {
   "name": "tf2-gpu.2-3.m74",
   "type": "gcloud",
   "uri": "gcr.io/deeplearning-platform-release/tf2-gpu.2-3:m74"
  },
  "kernelspec": {
   "display_name": "shivansh_kernel",
   "language": "python",
   "name": "shivansh_kernel"
  },
  "language_info": {
   "codemirror_mode": {
    "name": "ipython",
    "version": 3
   },
   "file_extension": ".py",
   "mimetype": "text/x-python",
   "name": "python",
   "nbconvert_exporter": "python",
   "pygments_lexer": "ipython3",
   "version": "3.7.10"
  }
 },
 "nbformat": 4,
 "nbformat_minor": 5
}

{
  "nbformat": 4,
  "nbformat_minor": 0,
  "metadata": {
    "colab": {
      "name": "ContinuationLogisticRegressionInPython.ipynb",
      "provenance": [],
      "collapsed_sections": []
    },
    "kernelspec": {
      "name": "python3",
      "display_name": "Python 3"
    },
    "language_info": {
      "name": "python"
    }
  },
  "cells": [
    {
      "cell_type": "markdown",
      "metadata": {
        "id": "uzYmC4AnjWmC"
      },
      "source": [
        "# Connect google drive to this VM\n"
      ]
    },
    {
      "cell_type": "code",
      "metadata": {
        "colab": {
          "base_uri": "https://localhost:8080/"
        },
        "id": "v_mrIcYfBTu4",
        "outputId": "f92d17df-f22d-4a3b-f6c7-d692501dd292"
      },
      "source": [
        "from google.colab import drive\n",
        "drive.mount('/content/gdrive/')"
      ],
      "execution_count": null,
      "outputs": [
        {
          "output_type": "stream",
          "text": [
            "Mounted at /content/gdrive/\n"
          ],
          "name": "stdout"
        }
      ]
    },
    {
      "cell_type": "markdown",
      "metadata": {
        "id": "iIRDLx92jaK5"
      },
      "source": [
        "# Read our data file on the British seatbelt study\n",
        "\n"
      ]
    },
    {
      "cell_type": "code",
      "metadata": {
        "colab": {
          "base_uri": "https://localhost:8080/",
          "height": 206
        },
        "id": "sQ4dhSy1BeZu",
        "outputId": "9d778854-3181-4e04-df73-327bf0f6fb28"
      },
      "source": [
        "import pandas as pd\n",
        "\n",
        "df = pd.read_csv(\"/content/gdrive/MyDrive/PGSS2021/L2-792021/britishSeatBeltStudy.csv\")\n",
        "df.head()"
      ],
      "execution_count": null,
      "outputs": [
        {
          "output_type": "execute_result",
          "data": {
            "text/html": [
              "<div>\n",
              "<style scoped>\n",
              "    .dataframe tbody tr th:only-of-type {\n",
              "        vertical-align: middle;\n",
              "    }\n",
              "\n",
              "    .dataframe tbody tr th {\n",
              "        vertical-align: top;\n",
              "    }\n",
              "\n",
              "    .dataframe thead th {\n",
              "        text-align: right;\n",
              "    }\n",
              "</style>\n",
              "<table border=\"1\" class=\"dataframe\">\n",
              "  <thead>\n",
              "    <tr style=\"text-align: right;\">\n",
              "      <th></th>\n",
              "      <th>DriversKilled</th>\n",
              "      <th>drivers</th>\n",
              "      <th>front</th>\n",
              "      <th>rear</th>\n",
              "      <th>kms</th>\n",
              "      <th>PetrolPrice</th>\n",
              "      <th>VanKilled</th>\n",
              "      <th>law</th>\n",
              "      <th>Date</th>\n",
              "    </tr>\n",
              "  </thead>\n",
              "  <tbody>\n",
              "    <tr>\n",
              "      <th>0</th>\n",
              "      <td>107</td>\n",
              "      <td>1687</td>\n",
              "      <td>867</td>\n",
              "      <td>269</td>\n",
              "      <td>9059</td>\n",
              "      <td>0.102972</td>\n",
              "      <td>12</td>\n",
              "      <td>0</td>\n",
              "      <td>1969-01-01</td>\n",
              "    </tr>\n",
              "    <tr>\n",
              "      <th>1</th>\n",
              "      <td>97</td>\n",
              "      <td>1508</td>\n",
              "      <td>825</td>\n",
              "      <td>265</td>\n",
              "      <td>7685</td>\n",
              "      <td>0.102363</td>\n",
              "      <td>6</td>\n",
              "      <td>0</td>\n",
              "      <td>1969-02-01</td>\n",
              "    </tr>\n",
              "    <tr>\n",
              "      <th>2</th>\n",
              "      <td>102</td>\n",
              "      <td>1507</td>\n",
              "      <td>806</td>\n",
              "      <td>319</td>\n",
              "      <td>9963</td>\n",
              "      <td>0.102062</td>\n",
              "      <td>12</td>\n",
              "      <td>0</td>\n",
              "      <td>1969-03-01</td>\n",
              "    </tr>\n",
              "    <tr>\n",
              "      <th>3</th>\n",
              "      <td>87</td>\n",
              "      <td>1385</td>\n",
              "      <td>814</td>\n",
              "      <td>407</td>\n",
              "      <td>10955</td>\n",
              "      <td>0.100873</td>\n",
              "      <td>8</td>\n",
              "      <td>0</td>\n",
              "      <td>1969-04-01</td>\n",
              "    </tr>\n",
              "    <tr>\n",
              "      <th>4</th>\n",
              "      <td>119</td>\n",
              "      <td>1632</td>\n",
              "      <td>991</td>\n",
              "      <td>454</td>\n",
              "      <td>11823</td>\n",
              "      <td>0.101020</td>\n",
              "      <td>10</td>\n",
              "      <td>0</td>\n",
              "      <td>1969-05-01</td>\n",
              "    </tr>\n",
              "  </tbody>\n",
              "</table>\n",
              "</div>"
            ],
            "text/plain": [
              "   DriversKilled  drivers  front  rear  ...  PetrolPrice  VanKilled  law        Date\n",
              "0            107     1687    867   269  ...     0.102972         12    0  1969-01-01\n",
              "1             97     1508    825   265  ...     0.102363          6    0  1969-02-01\n",
              "2            102     1507    806   319  ...     0.102062         12    0  1969-03-01\n",
              "3             87     1385    814   407  ...     0.100873          8    0  1969-04-01\n",
              "4            119     1632    991   454  ...     0.101020         10    0  1969-05-01\n",
              "\n",
              "[5 rows x 9 columns]"
            ]
          },
          "metadata": {
            "tags": []
          },
          "execution_count": 2
        }
      ]
    },
    {
      "cell_type": "markdown",
      "metadata": {
        "id": "0oP98ijKjhTX"
      },
      "source": [
        "# Adjust the column types here and check the data frame for information on column-specific types"
      ]
    },
    {
      "cell_type": "code",
      "metadata": {
        "colab": {
          "base_uri": "https://localhost:8080/"
        },
        "id": "RNO2yRQrBuPz",
        "outputId": "4c2fb46d-067b-4122-c594-e91cdfd67cad"
      },
      "source": [
        "df[\"law\"] = df[\"law\"].astype(\"category\")\n",
        "df.info()"
      ],
      "execution_count": null,
      "outputs": [
        {
          "output_type": "stream",
          "text": [
            "<class 'pandas.core.frame.DataFrame'>\n",
            "RangeIndex: 192 entries, 0 to 191\n",
            "Data columns (total 9 columns):\n",
            " #   Column         Non-Null Count  Dtype   \n",
            "---  ------         --------------  -----   \n",
            " 0   DriversKilled  192 non-null    int64   \n",
            " 1   drivers        192 non-null    int64   \n",
            " 2   front          192 non-null    int64   \n",
            " 3   rear           192 non-null    int64   \n",
            " 4   kms            192 non-null    int64   \n",
            " 5   PetrolPrice    192 non-null    float64 \n",
            " 6   VanKilled      192 non-null    int64   \n",
            " 7   law            192 non-null    category\n",
            " 8   Date           192 non-null    object  \n",
            "dtypes: category(1), float64(1), int64(6), object(1)\n",
            "memory usage: 12.4+ KB\n"
          ],
          "name": "stdout"
        }
      ]
    },
    {
      "cell_type": "markdown",
      "metadata": {
        "id": "7aDsn-oLjnRm"
      },
      "source": [
        "# Load SKLearn's linear model for logistic regression and fit it against our dataset, identifying a separate variable, X for regressors, and y for the response variable (binary in this case)"
      ]
    },
    {
      "cell_type": "code",
      "metadata": {
        "colab": {
          "base_uri": "https://localhost:8080/"
        },
        "id": "-OC9UDCYAgAl",
        "outputId": "a93023aa-fd16-442d-d789-d96c5fed4bf2"
      },
      "source": [
        "from sklearn.linear_model import LogisticRegression \n",
        "from sklearn import metrics\n",
        "\n",
        "X=df[['DriversKilled', 'VanKilled']]  # Features\n",
        "y=df['law'].astype('category')  # Labels\n",
        "\n",
        "myModel = LogisticRegression()\n",
        "myModel.fit(X,y)\n"
      ],
      "execution_count": null,
      "outputs": [
        {
          "output_type": "execute_result",
          "data": {
            "text/plain": [
              "0"
            ]
          },
          "metadata": {
            "tags": []
          },
          "execution_count": 4
        }
      ]
    },
    {
      "cell_type": "markdown",
      "metadata": {
        "id": "I3i5G2zNjv0x"
      },
      "source": [
        "# Evaluate the fitted model on some test examples"
      ]
    },
    {
      "cell_type": "code",
      "metadata": {
        "colab": {
          "base_uri": "https://localhost:8080/"
        },
        "id": "SFSfaGUqCQk0",
        "outputId": "ba941022-e155-4cdb-ad66-4cafe008154e"
      },
      "source": [
        "y_pred = myModel.predict([[100, 10]])[0]\n",
        "print(\"input: \" + \"[100, 10]\")\n",
        "print(\"output: \" + str(y_pred))\n",
        "\n",
        "y_pred = myModel.predict([[10, 1]])[0]\n",
        "print(\"input: \" + \"[10, 1]\")\n",
        "print(\"output: \" + str(y_pred))"
      ],
      "execution_count": null,
      "outputs": [
        {
          "output_type": "stream",
          "text": [
            "input: [100, 10]\n",
            "output: 0\n",
            "input: [10, 1]\n",
            "output: 1\n"
          ],
          "name": "stdout"
        }
      ]
    },
    {
      "cell_type": "markdown",
      "metadata": {
        "id": "uE8o3oASkD8S"
      },
      "source": [
        "# Test the model's ability to predict a bunch of records at once, by passing in our initial training matrix, X, into the model.  Then prepare a Confusion Matrix to compare prediction counts against actual counts for each class of law=1 or law=0"
      ]
    },
    {
      "cell_type": "code",
      "metadata": {
        "colab": {
          "base_uri": "https://localhost:8080/",
          "height": 143
        },
        "id": "fYNvtxDhCYEH",
        "outputId": "5544f161-7df0-4999-db3f-979c7b6b319a"
      },
      "source": [
        "y_pred = myModel.predict(X)\n",
        "pd.crosstab(y, y_pred)"
      ],
      "execution_count": null,
      "outputs": [
        {
          "output_type": "execute_result",
          "data": {
            "text/html": [
              "<div>\n",
              "<style scoped>\n",
              "    .dataframe tbody tr th:only-of-type {\n",
              "        vertical-align: middle;\n",
              "    }\n",
              "\n",
              "    .dataframe tbody tr th {\n",
              "        vertical-align: top;\n",
              "    }\n",
              "\n",
              "    .dataframe thead th {\n",
              "        text-align: right;\n",
              "    }\n",
              "</style>\n",
              "<table border=\"1\" class=\"dataframe\">\n",
              "  <thead>\n",
              "    <tr style=\"text-align: right;\">\n",
              "      <th>col_0</th>\n",
              "      <th>0</th>\n",
              "      <th>1</th>\n",
              "    </tr>\n",
              "    <tr>\n",
              "      <th>law</th>\n",
              "      <th></th>\n",
              "      <th></th>\n",
              "    </tr>\n",
              "  </thead>\n",
              "  <tbody>\n",
              "    <tr>\n",
              "      <th>0</th>\n",
              "      <td>166</td>\n",
              "      <td>3</td>\n",
              "    </tr>\n",
              "    <tr>\n",
              "      <th>1</th>\n",
              "      <td>16</td>\n",
              "      <td>7</td>\n",
              "    </tr>\n",
              "  </tbody>\n",
              "</table>\n",
              "</div>"
            ],
            "text/plain": [
              "col_0    0  1\n",
              "law          \n",
              "0      166  3\n",
              "1       16  7"
            ]
          },
          "metadata": {
            "tags": []
          },
          "execution_count": 6
        }
      ]
    },
    {
      "cell_type": "code",
      "metadata": {
        "colab": {
          "base_uri": "https://localhost:8080/"
        },
        "id": "fSLtdA3tCgYu",
        "outputId": "314f3bc5-e292-4eb2-afd9-f4ba1b66ac96"
      },
      "source": [
        "from sklearn.metrics import confusion_matrix\n",
        "confusion_matrix_0 = confusion_matrix (y, y_pred)\n",
        "confusion_matrix_0"
      ],
      "execution_count": null,
      "outputs": [
        {
          "output_type": "execute_result",
          "data": {
            "text/plain": [
              "array([[166,   3],\n",
              "       [ 16,   7]])"
            ]
          },
          "metadata": {
            "tags": []
          },
          "execution_count": 7
        }
      ]
    },
    {
      "cell_type": "markdown",
      "metadata": {
        "id": "rDsU36zDkPg1"
      },
      "source": [
        "# Lets create some statistics around the group / batch prediction accuracies using the default threshold for probability of law=1 (which is 0.5 by default)"
      ]
    },
    {
      "cell_type": "code",
      "metadata": {
        "colab": {
          "base_uri": "https://localhost:8080/"
        },
        "id": "k2G9QN4jC1Co",
        "outputId": "cd88b989-35ed-486d-c4d3-a285587378b0"
      },
      "source": [
        "from sklearn.metrics import classification_report\n",
        "cr = classification_report(y, y_pred)\n",
        "\n",
        "print(cr)"
      ],
      "execution_count": null,
      "outputs": [
        {
          "output_type": "stream",
          "text": [
            "              precision    recall  f1-score   support\n",
            "\n",
            "           0       0.91      0.98      0.95       169\n",
            "           1       0.70      0.30      0.42        23\n",
            "\n",
            "    accuracy                           0.90       192\n",
            "   macro avg       0.81      0.64      0.69       192\n",
            "weighted avg       0.89      0.90      0.88       192\n",
            "\n"
          ],
          "name": "stdout"
        }
      ]
    },
    {
      "cell_type": "markdown",
      "metadata": {
        "id": "HVjHGHAekV_X"
      },
      "source": [
        "# Optimize the model-specific probability threshold to improve the model prediction stats"
      ]
    },
    {
      "cell_type": "code",
      "metadata": {
        "colab": {
          "base_uri": "https://localhost:8080/"
        },
        "id": "pZbpaQ45DC3P",
        "outputId": "5858e609-0a55-49da-f1e6-e26daa3e26d1"
      },
      "source": [
        "# Fine tune the model with a better probability cut-off to get better results in the training set\n",
        "\n",
        "from sklearn.metrics import classification_report\n",
        "y_pred = myModel.predict_proba(X)[:,1]\n",
        "\n",
        "cr = classification_report(y, y_pred>0.15)\n",
        "print(confusion_matrix (y, y_pred>0.15))\n",
        "print(cr)"
      ],
      "execution_count": null,
      "outputs": [
        {
          "output_type": "stream",
          "text": [
            "[[137  32]\n",
            " [  5  18]]\n",
            "              precision    recall  f1-score   support\n",
            "\n",
            "           0       0.96      0.81      0.88       169\n",
            "           1       0.36      0.78      0.49        23\n",
            "\n",
            "    accuracy                           0.81       192\n",
            "   macro avg       0.66      0.80      0.69       192\n",
            "weighted avg       0.89      0.81      0.83       192\n",
            "\n"
          ],
          "name": "stdout"
        }
      ]
    },
    {
      "cell_type": "code",
      "metadata": {
        "colab": {
          "base_uri": "https://localhost:8080/"
        },
        "id": "mPzULABBDSUe",
        "outputId": "dcb7c8a5-57d0-4d54-962d-fc3b8c9ec567"
      },
      "source": [
        "# Fine tune the model with a better probability cut-off to get better results in the training set [This time lets optimize using the log odds]\n",
        "\n",
        "from sklearn.metrics import classification_report\n",
        "y_pred = myModel.predict_log_proba(X)[:,1]\n",
        "\n",
        "cr = classification_report(y, y_pred>-2)\n",
        "print(confusion_matrix (y, y_pred>-2))\n",
        "print(cr)"
      ],
      "execution_count": null,
      "outputs": [
        {
          "output_type": "stream",
          "text": [
            "[[135  34]\n",
            " [  5  18]]\n",
            "              precision    recall  f1-score   support\n",
            "\n",
            "           0       0.96      0.80      0.87       169\n",
            "           1       0.35      0.78      0.48        23\n",
            "\n",
            "    accuracy                           0.80       192\n",
            "   macro avg       0.66      0.79      0.68       192\n",
            "weighted avg       0.89      0.80      0.83       192\n",
            "\n"
          ],
          "name": "stdout"
        }
      ]
    },
    {
      "cell_type": "markdown",
      "metadata": {
        "id": "72SIOfEJiwOx"
      },
      "source": [
        "# Let's save the model that we prepared above, myModel, to a neutral binary file that can live and operate by itself"
      ]
    },
    {
      "cell_type": "code",
      "metadata": {
        "id": "-5jP7YumEPHk"
      },
      "source": [
        "import pickle\n",
        "model_filename = 'british-Seatbelt-Study-model.pkl'\n",
        "pickle.dump(myModel, open(model_filename,'wb'))\n"
      ],
      "execution_count": null,
      "outputs": []
    },
    {
      "cell_type": "code",
      "metadata": {
        "colab": {
          "base_uri": "https://localhost:8080/"
        },
        "id": "NWFeWAO3i49L",
        "outputId": "de2c9ed0-6e6d-4ed2-916c-8dca860f8ece"
      },
      "source": [
        "reloadedModel = pickle.load(open('british-Seatbelt-Study-model.pkl','rb'))\n",
        "print(reloadedModel.predict([[100, 10]]))"
      ],
      "execution_count": null,
      "outputs": [
        {
          "output_type": "stream",
          "text": [
            "[0]\n"
          ],
          "name": "stdout"
        }
      ]
    },
    {
      "cell_type": "code",
      "metadata": {
        "colab": {
          "base_uri": "https://localhost:8080/"
        },
        "id": "Y-jY_ZAajJr6",
        "outputId": "7d3fb82e-8fd0-4f11-8d24-06e2c1df2250"
      },
      "source": [
        "print(reloadedModel.predict([[10, 1]]))"
      ],
      "execution_count": null,
      "outputs": [
        {
          "output_type": "stream",
          "text": [
            "[1]\n"
          ],
          "name": "stdout"
        }
      ]
    },
    {
      "cell_type": "markdown",
      "metadata": {
        "id": "rayjtqeJlWBQ"
      },
      "source": [
        "# Evaluate a set of models - not just logistic regression - for the classification ability of law=1 v/s law=0, starting with a PORTION of the data for fitting only, but a different portion each time, many times in a row, to see if our model has truly learned something valuable\n"
      ]
    },
    {
      "cell_type": "code",
      "metadata": {
        "id": "GKlat1lSjLtS",
        "colab": {
          "base_uri": "https://localhost:8080/",
          "height": 625
        },
        "outputId": "c843cd54-7fb7-4221-e923-d12e6ac6068d"
      },
      "source": [
        "# correlation between test harness and ideal test condition\n",
        "from numpy import mean\n",
        "from numpy import isnan\n",
        "from numpy import asarray\n",
        "from numpy import polyfit\n",
        "from scipy.stats import pearsonr\n",
        "from matplotlib import pyplot\n",
        "from sklearn.datasets import make_classification\n",
        "from sklearn.model_selection import KFold\n",
        "from sklearn.model_selection import LeaveOneOut\n",
        "from sklearn.model_selection import cross_val_score\n",
        "from sklearn.linear_model import LogisticRegression\n",
        "from sklearn.linear_model import RidgeClassifier\n",
        "from sklearn.linear_model import SGDClassifier\n",
        "from sklearn.linear_model import PassiveAggressiveClassifier\n",
        "from sklearn.neighbors import KNeighborsClassifier\n",
        "from sklearn.tree import DecisionTreeClassifier\n",
        "from sklearn.tree import ExtraTreeClassifier\n",
        "from sklearn.svm import LinearSVC\n",
        "from sklearn.svm import SVC\n",
        "from sklearn.naive_bayes import GaussianNB\n",
        "from sklearn.ensemble import AdaBoostClassifier\n",
        "from sklearn.ensemble import BaggingClassifier\n",
        "from sklearn.ensemble import RandomForestClassifier\n",
        "from sklearn.ensemble import ExtraTreesClassifier\n",
        "from sklearn.gaussian_process import GaussianProcessClassifier\n",
        "from sklearn.ensemble import GradientBoostingClassifier\n",
        "from sklearn.discriminant_analysis import LinearDiscriminantAnalysis\n",
        "from sklearn.discriminant_analysis import QuadraticDiscriminantAnalysis\n",
        " \n",
        "# create the dataset\n",
        "def get_dataset(n_samples=100):\n",
        "    # X, y = make_classification(n_samples=n_samples, n_features=20, n_informative=15, n_redundant=5, random_state=1)\n",
        "    \n",
        "    X=df[['DriversKilled', 'VanKilled']]  # Features\n",
        "    y=df['law'].astype('category')  # Labels\n",
        "    \n",
        "    return X, y\n",
        " \n",
        "# get a list of models to evaluate\n",
        "def get_models():\n",
        "    models = list()\n",
        "    models.append(LogisticRegression())\n",
        "    models.append(RidgeClassifier())\n",
        "    models.append(SGDClassifier())\n",
        "    models.append(PassiveAggressiveClassifier())\n",
        "    models.append(KNeighborsClassifier())\n",
        "    models.append(DecisionTreeClassifier())\n",
        "    models.append(ExtraTreeClassifier())\n",
        "    models.append(LinearSVC())\n",
        "    models.append(SVC())\n",
        "    models.append(GaussianNB())\n",
        "    models.append(AdaBoostClassifier())\n",
        "    models.append(BaggingClassifier())\n",
        "    models.append(RandomForestClassifier())\n",
        "    models.append(ExtraTreesClassifier())\n",
        "    models.append(GaussianProcessClassifier())\n",
        "    models.append(GradientBoostingClassifier())\n",
        "    models.append(LinearDiscriminantAnalysis())\n",
        "    models.append(QuadraticDiscriminantAnalysis())\n",
        "    return models\n",
        " \n",
        "# evaluate the model using a given test condition\n",
        "def evaluate_model(cv, model):\n",
        "    # get the dataset\n",
        "    X, y = get_dataset()\n",
        "    # evaluate the model\n",
        "    scores = cross_val_score(model, X, y, scoring='accuracy', cv=cv, n_jobs=-1)\n",
        "    # return scores\n",
        "    return mean(scores)\n",
        " \n",
        "# define test conditions\n",
        "ideal_cv = LeaveOneOut()\n",
        "cv = KFold(n_splits=10, shuffle=True, random_state=1)\n",
        "# get the list of models to consider\n",
        "models = get_models()\n",
        "# collect results\n",
        "ideal_results, cv_results = list(), list()\n",
        "# evaluate each model\n",
        "for model in models:\n",
        "    # evaluate model using each test condition\n",
        "    cv_mean = evaluate_model(cv, model)\n",
        "    ideal_mean = evaluate_model(ideal_cv, model)\n",
        "    # check for invalid results\n",
        "    if isnan(cv_mean) or isnan(ideal_mean):\n",
        "        continue\n",
        "    # store results\n",
        "    cv_results.append(cv_mean)\n",
        "    ideal_results.append(ideal_mean)\n",
        "    # summarize progress\n",
        "    print('>%s: ideal=%.3f, cv=%.3f' % (type(model).__name__, ideal_mean, cv_mean))\n",
        "\n",
        "\n",
        "# calculate the correlation between each test condition\n",
        "corr, _ = pearsonr(cv_results, ideal_results)\n",
        "print('Correlation: %.3f' % corr)\n",
        "# scatter plot of results\n",
        "pyplot.scatter(cv_results, ideal_results)\n",
        "# plot the line of best fit\n",
        "coeff, bias = polyfit(cv_results, ideal_results, 1)\n",
        "line = coeff * asarray(cv_results) + bias\n",
        "pyplot.plot(cv_results, line, color='r')\n",
        "# label the plot\n",
        "pyplot.title('10-fold CV vs LOOCV Mean Accuracy')\n",
        "pyplot.xlabel('Mean Accuracy (10-fold CV)')\n",
        "pyplot.ylabel('Mean Accuracy (LOOCV)')\n",
        "# show the plot\n",
        "pyplot.show()"
      ],
      "execution_count": 25,
      "outputs": [
        {
          "output_type": "stream",
          "text": [
            ">LogisticRegression: ideal=0.901, cv=0.896\n",
            ">RidgeClassifier: ideal=0.880, cv=0.881\n",
            ">SGDClassifier: ideal=0.781, cv=0.796\n",
            ">PassiveAggressiveClassifier: ideal=0.802, cv=0.881\n",
            ">KNeighborsClassifier: ideal=0.906, cv=0.911\n",
            ">DecisionTreeClassifier: ideal=0.839, cv=0.849\n",
            ">ExtraTreeClassifier: ideal=0.859, cv=0.864\n",
            ">LinearSVC: ideal=0.719, cv=0.796\n",
            ">SVC: ideal=0.880, cv=0.881\n",
            ">GaussianNB: ideal=0.891, cv=0.890\n",
            ">AdaBoostClassifier: ideal=0.896, cv=0.875\n",
            ">BaggingClassifier: ideal=0.870, cv=0.859\n",
            ">RandomForestClassifier: ideal=0.870, cv=0.880\n",
            ">ExtraTreesClassifier: ideal=0.870, cv=0.881\n",
            ">GaussianProcessClassifier: ideal=0.859, cv=0.854\n",
            ">GradientBoostingClassifier: ideal=0.865, cv=0.859\n",
            ">LinearDiscriminantAnalysis: ideal=0.901, cv=0.901\n",
            ">QuadraticDiscriminantAnalysis: ideal=0.891, cv=0.870\n",
            "Correlation: 0.854\n"
          ],
          "name": "stdout"
        },
        {
          "output_type": "display_data",
          "data": {
            "image/png": "[encoded data removed]",
            "text/plain": [
              "<Figure size 432x288 with 1 Axes>"
            ]
          },
          "metadata": {
            "tags": [],
            "needs_background": "light"
          }
        }
      ]
    },
    {
      "cell_type": "code",
      "metadata": {
        "id": "tnJGnGwlnvTA"
      },
      "source": [
        "X1, y1 = get_dataset()"
      ],
      "execution_count": 22,
      "outputs": []
    },
    {
      "cell_type": "code",
      "metadata": {
        "colab": {
          "base_uri": "https://localhost:8080/"
        },
        "id": "J7n0O9Seoo9t",
        "outputId": "6b3662a4-5120-4414-810f-a76318e2f75c"
      },
      "source": [
        "X1"
      ],
      "execution_count": 23,
      "outputs": [
        {
          "output_type": "execute_result",
          "data": {
            "text/plain": [
              "array([[ 4.04836854e+00, -2.67724481e+00,  2.11332947e+00, ...,\n",
              "         8.17524462e-01, -3.15597168e+00,  4.33604140e+00],\n",
              "       [ 1.15682898e+00,  7.52943571e-01, -1.03038727e+01, ...,\n",
              "         1.19066787e+00,  1.58240699e+01,  5.22029877e+00],\n",
              "       [-4.95770878e-01,  7.74616621e+00, -1.01731011e+01, ...,\n",
              "         3.78330001e+00,  1.05086732e+01,  1.16407444e+01],\n",
              "       ...,\n",
              "       [-6.31409629e-01, -4.20494222e-01, -1.74791921e+00, ...,\n",
              "        -3.01213690e+00, -5.59288278e+00,  6.03116404e+00],\n",
              "       [-2.72940069e+00, -1.30634521e+00,  4.19694132e+00, ...,\n",
              "        -2.32566114e+00,  3.52498671e+00, -7.00451448e+00],\n",
              "       [-4.38521322e-01,  7.44788426e-03,  1.97486928e-01, ...,\n",
              "        -2.53455664e+00, -7.42659183e-01,  2.32133225e+00]])"
            ]
          },
          "metadata": {
            "tags": []
          },
          "execution_count": 23
        }
      ]
    },
    {
      "cell_type": "code",
      "metadata": {
        "colab": {
          "base_uri": "https://localhost:8080/"
        },
        "id": "bUHAc_KNouV-",
        "outputId": "f9721b92-2955-4016-e6a8-4e0ce7a003c0"
      },
      "source": [
        "y1"
      ],
      "execution_count": 24,
      "outputs": [
        {
          "output_type": "execute_result",
          "data": {
            "text/plain": [
              "array([1, 0, 0, 1, 0, 0, 1, 0, 1, 1, 0, 1, 0, 0, 0, 1, 0, 1, 0, 1, 1, 1,\n",
              "       1, 0, 1, 1, 1, 0, 1, 1, 1, 1, 0, 1, 1, 1, 1, 1, 0, 0, 0, 1, 0, 1,\n",
              "       0, 0, 0, 1, 1, 0, 0, 1, 1, 0, 1, 0, 0, 1, 0, 0, 0, 0, 1, 0, 1, 0,\n",
              "       1, 0, 1, 1, 0, 1, 1, 1, 0, 1, 0, 0, 1, 0, 1, 0, 0, 0, 0, 1, 1, 0,\n",
              "       0, 0, 1, 0, 0, 1, 0, 1, 0, 0, 0, 1])"
            ]
          },
          "metadata": {
            "tags": []
          },
          "execution_count": 24
        }
      ]
    },
    {
      "cell_type": "markdown",
      "metadata": {
        "id": "0oQETqO_tH2m"
      },
      "source": [
        "# Create NGROK web server\n"
      ]
    },
    {
      "cell_type": "code",
      "metadata": {
        "colab": {
          "base_uri": "https://localhost:8080/"
        },
        "id": "FyYbxUfgtGTY",
        "outputId": "06e763b3-2ec2-4dba-cc4c-ead03357eb44"
      },
      "source": [
        "!wget https://bin.equinox.io/c/4VmDzA7iaHb/ngrok-stable-linux-amd64.zip\n",
        "!unzip ngrok-stable-linux-amd64.zip\n"
      ],
      "execution_count": 26,
      "outputs": [
        {
          "output_type": "stream",
          "text": [
            "--2021-07-13 21:10:05--  https://bin.equinox.io/c/4VmDzA7iaHb/ngrok-stable-linux-amd64.zip\n",
            "Resolving bin.equinox.io (bin.equinox.io)... 3.231.85.157, 3.227.65.201, 3.208.246.187, ...\n",
            "Connecting to bin.equinox.io (bin.equinox.io)|3.231.85.157|:443... connected.\n",
            "HTTP request sent, awaiting response... 200 OK\n",
            "Length: 13832437 (13M) [application/octet-stream]\n",
            "Saving to: ‘ngrok-stable-linux-amd64.zip’\n",
            "\n",
            "ngrok-stable-linux- 100%[===================>]  13.19M  16.2MB/s    in 0.8s    \n",
            "\n",
            "2021-07-13 21:10:07 (16.2 MB/s) - ‘ngrok-stable-linux-amd64.zip’ saved [13832437/13832437]\n",
            "\n",
            "Archive:  ngrok-stable-linux-amd64.zip\n",
            "  inflating: ngrok                   \n"
          ],
          "name": "stdout"
        }
      ]
    },
    {
      "cell_type": "code",
      "metadata": {
        "id": "wK_GhJzUtJ1x"
      },
      "source": [
        "get_ipython().system_raw('./ngrok http 8501 &')\n"
      ],
      "execution_count": 65,
      "outputs": []
    },
    {
      "cell_type": "code",
      "metadata": {
        "colab": {
          "base_uri": "https://localhost:8080/"
        },
        "id": "OMA3BaYqtOCg",
        "outputId": "e7165fd6-00d5-47af-95bd-802983f21581"
      },
      "source": [
        "!curl -s http://localhost:4040/api/tunnels | python3 -c \\\n",
        "    'import sys, json; print(\"Execute the next cell and the go to the following URL: \" +json.load(sys.stdin)[\"tunnels\"][0][\"public_url\"])'\n"
      ],
      "execution_count": 66,
      "outputs": [
        {
          "output_type": "stream",
          "text": [
            "Execute the next cell and the go to the following URL: https://32f208c224c2.ngrok.io\n"
          ],
          "name": "stdout"
        }
      ]
    },
    {
      "cell_type": "code",
      "metadata": {
        "colab": {
          "base_uri": "https://localhost:8080/"
        },
        "id": "MKiy_GVVtll-",
        "outputId": "f6d35013-b0a0-42e5-f094-fe2e12756dfa"
      },
      "source": [
        "%%writefile streamlitApp.py\n",
        "\n",
        "import streamlit as st\n",
        "\n",
        "import pickle\n",
        "\n",
        "import math\n",
        "import numpy as np\n",
        "import pandas as pd\n",
        "import matplotlib.pyplot as plt\n",
        "import base64\n",
        "import pathlib\n",
        "\n",
        "\n",
        "def main():\n",
        "    page = st.sidebar.selectbox(\"Model Builder\", [ \"Test\", \"Train\"])\n",
        "    DriversKilled = st.sidebar.text_area(\"Enter the number of people who died this month: \", 100)\n",
        "    VanKilled = st.sidebar.text_area(\"Enter the number of people who died driving Vans this month: \", 10)\n",
        "        \n",
        "    if page == \"Test\":\n",
        "        st.header(\"Predicted Status of Seatbelt Law (0 or 1): \")\n",
        "\n",
        "        reloadedModel = pickle.load(open('/content/british-Seatbelt-Study-model.pkl','rb'))\n",
        "        result = reloadedModel.predict([[float(DriversKilled), float(VanKilled)]])\n",
        "\n",
        "        st.write(result)\n",
        "\n",
        "    elif page == \"Train\":\n",
        "        st.header(\"Refit the model against new data: \")\n",
        "\n",
        "# @st.cache\n",
        "# @st.cache(allow_output_mutation=True)\n",
        "# @st.cache(suppress_st_warning=True)\n",
        "\n",
        "\n",
        "if __name__ == \"__main__\":\n",
        "    main()\n"
      ],
      "execution_count": 64,
      "outputs": [
        {
          "output_type": "stream",
          "text": [
            "Overwriting streamlitApp.py\n"
          ],
          "name": "stdout"
        }
      ]
    },
    {
      "cell_type": "code",
      "metadata": {
        "id": "dKXy73y0vsqN"
      },
      "source": [
        "# ! pip install streamlit"
      ],
      "execution_count": 60,
      "outputs": []
    },
    {
      "cell_type": "code",
      "metadata": {
        "colab": {
          "base_uri": "https://localhost:8080/"
        },
        "id": "Y9biBWnotOsY",
        "outputId": "17ad99d9-7754-40bb-af01-b6355f5e0db1"
      },
      "source": [
        "!streamlit run /content/streamlitApp.py "
      ],
      "execution_count": 67,
      "outputs": [
        {
          "output_type": "stream",
          "text": [
            "\u001b[0m\n",
            "\u001b[34m\u001b[1m  You can now view your Streamlit app in your browser.\u001b[0m\n",
            "\u001b[0m\n",
            "\u001b[34m  Network URL: \u001b[0m\u001b[1mhttp://172.28.0.2:8501\u001b[0m\n",
            "\u001b[34m  External URL: \u001b[0m\u001b[1mhttp://35.227.150.46:8501\u001b[0m\n",
            "\u001b[0m\n",
            "\u001b[34m  Stopping...\u001b[0m\n",
            "\u001b[34m  Stopping...\u001b[0m\n"
          ],
          "name": "stdout"
        }
      ]
    },
    {
      "cell_type": "code",
      "metadata": {
        "id": "kbzpxoiNxWkm"
      },
      "source": [
        ""
      ],
      "execution_count": null,
      "outputs": []
    }
  ]
}